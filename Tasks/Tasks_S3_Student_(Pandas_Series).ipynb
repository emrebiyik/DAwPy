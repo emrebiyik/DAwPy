{
 "cells": [
  {
   "cell_type": "markdown",
   "id": "075979fa",
   "metadata": {},
   "source": [
    "# Tasks for Session-3 (Pandas_Series)"
   ]
  },
  {
   "cell_type": "code",
   "execution_count": 20,
   "id": "092cf991",
   "metadata": {},
   "outputs": [],
   "source": [
    "import numpy as np\n",
    "import pandas as pd"
   ]
  },
  {
   "cell_type": "markdown",
   "id": "56e0dc7e",
   "metadata": {},
   "source": [
    "## Task1: \n",
    "**Develop a program that allows entering student numbers and grades in a university, and then calculates the `count`, `sum`, `maximum`, `minimum`, and average of the entered grades.**<br>\n",
    "**Store the student numbers and grades in a pandas Series called `students`**"
   ]
  },
  {
   "cell_type": "code",
   "execution_count": 21,
   "id": "01735940",
   "metadata": {},
   "outputs": [],
   "source": [
    "students = pd.Series(name='students')"
   ]
  },
  {
   "cell_type": "code",
   "execution_count": 22,
   "id": "dcccef42-f4e3-44b7-839f-60efe1b6861e",
   "metadata": {
    "tags": []
   },
   "outputs": [
    {
     "name": "stdin",
     "output_type": "stream",
     "text": [
      "ögrenci numarasi girin (cikmak icin q tusuna basin):  1022\n",
      "ögrenci notunu girin:  90\n",
      "ögrenci numarasi girin (cikmak icin q tusuna basin):  1876\n",
      "ögrenci notunu girin:  54\n",
      "ögrenci numarasi girin (cikmak icin q tusuna basin):  1834\n",
      "ögrenci notunu girin:  64\n",
      "ögrenci numarasi girin (cikmak icin q tusuna basin):  q\n"
     ]
    }
   ],
   "source": [
    "while True:\n",
    "    student_no = input('ögrenci numarasi girin (cikmak icin q tusuna basin): ')\n",
    "    if student_no.lower() == 'q':\n",
    "        break\n",
    "    \n",
    "    student_grade = float(input('ögrenci notunu girin: '))\n",
    "    students[student_no] = student_grade"
   ]
  },
  {
   "cell_type": "code",
   "execution_count": 23,
   "id": "930f31ff-1e11-4f1a-9f89-b7bbd6d96fb1",
   "metadata": {
    "tags": []
   },
   "outputs": [
    {
     "name": "stdin",
     "output_type": "stream",
     "text": [
      "ögrenci numarasi girin (cikmak icin q tusuna basin):  1566\n",
      "ögrenci notunu girin:  37\n",
      "ögrenci numarasi girin (cikmak icin q tusuna basin):  1754\n",
      "ögrenci notunu girin:  88\n",
      "ögrenci numarasi girin (cikmak icin q tusuna basin):  4729\n",
      "ögrenci notunu girin:  77\n",
      "ögrenci numarasi girin (cikmak icin q tusuna basin):  q\n"
     ]
    },
    {
     "name": "stdout",
     "output_type": "stream",
     "text": [
      "ögrenci numara ve notlari asagidaki gibidir:\n",
      "1022    90.0\n",
      "1876    54.0\n",
      "1834    64.0\n",
      "1566    37.0\n",
      "1754    88.0\n",
      "4729    77.0\n",
      "Name: students, dtype: float64\n",
      "ögrenci bilgileri basariyla kaydedildi. notlara ait bilgiler asagidadir:\n",
      "ögrenci sayisi: 6\n",
      "en yüksek not: 90.0\n",
      "en düsük not: <bound method NDFrame._add_numeric_operations.<locals>.min of 1022    90.0\n",
      "1876    54.0\n",
      "1834    64.0\n",
      "1566    37.0\n",
      "1754    88.0\n",
      "4729    77.0\n",
      "Name: students, dtype: float64>\n",
      "ortalama: 68.33333333333333\n",
      "not toplami: 410.0\n"
     ]
    }
   ],
   "source": [
    "while True:\n",
    "    student_no = input('ögrenci numarasi girin (cikmak icin q tusuna basin): ')\n",
    "    if student_no.lower() == 'q':\n",
    "        break\n",
    "    \n",
    "    student_grade = float(input('ögrenci notunu girin: '))\n",
    "    students[student_no] = student_grade\n",
    "    \n",
    "print('ögrenci numara ve notlari asagidaki gibidir:')\n",
    "print(students)\n",
    "\n",
    "print('ögrenci bilgileri basariyla kaydedildi. notlara ait bilgiler asagidadir:')\n",
    "print(f'ögrenci sayisi: {len(students)}')\n",
    "print(f'en yüksek not: {students.max()}')\n",
    "print(f'en düsük not: {students.min()}')\n",
    "print(f'ortalama: {students.mean()}')\n",
    "print(f'not toplami: {students.sum()}')"
   ]
  },
  {
   "cell_type": "markdown",
   "id": "c28ad924",
   "metadata": {},
   "source": [
    "## Task2:\n",
    "**Write a program that uses conditional selection to create a new Series,**\n",
    "where grades greater than 95 are classified as 'A+',<br>\n",
    "grades between 90 and 95 (inclusive) are classified as 'A',<br>\n",
    "grades between 85 and 90 (exclusive) are classified as 'B+',<br>\n",
    "grades between 80 and 85 (exclusive) are classified as 'B',<br>\n",
    "grades between 75 and 80 (inclusive) are classified as 'C+',<br>\n",
    "grades between 70 and 75 (inclusive) are classified as 'C',<br>\n",
    "grades between 60 and 70 (inclusive) are classified as 'D',<br>\n",
    "and grades less than 60 are classified as 'E'.**"
   ]
  },
  {
   "cell_type": "code",
   "execution_count": 24,
   "id": "05ff2509",
   "metadata": {},
   "outputs": [
    {
     "data": {
      "text/plain": [
       "1022    90.0\n",
       "1876    54.0\n",
       "1834    64.0\n",
       "1566    37.0\n",
       "1754    88.0\n",
       "4729    77.0\n",
       "Name: students, dtype: float64"
      ]
     },
     "execution_count": 24,
     "metadata": {},
     "output_type": "execute_result"
    }
   ],
   "source": [
    "students2 = students.copy()\n",
    "students2"
   ]
  },
  {
   "cell_type": "code",
   "execution_count": 25,
   "id": "9e5a2616",
   "metadata": {},
   "outputs": [
    {
     "data": {
      "text/plain": [
       "1022    90.0\n",
       "1876    54.0\n",
       "1834    64.0\n",
       "1754    88.0\n",
       "4729    77.0\n",
       "Name: students, dtype: float64"
      ]
     },
     "execution_count": 25,
     "metadata": {},
     "output_type": "execute_result"
    }
   ],
   "source": [
    "students2[students2 > 50]"
   ]
  },
  {
   "cell_type": "code",
   "execution_count": 26,
   "id": "ed1a6e56-0764-464c-bd80-4a2429b00b51",
   "metadata": {
    "tags": []
   },
   "outputs": [
    {
     "data": {
      "text/plain": [
       "1566    37.0\n",
       "Name: students, dtype: float64"
      ]
     },
     "execution_count": 26,
     "metadata": {},
     "output_type": "execute_result"
    }
   ],
   "source": [
    "students2[students2 < 50]"
   ]
  },
  {
   "cell_type": "code",
   "execution_count": 27,
   "id": "1265008b-d116-44bf-adf8-5889f1537c40",
   "metadata": {
    "tags": []
   },
   "outputs": [
    {
     "data": {
      "text/plain": [
       "Index(['1022', '1754'], dtype='object')"
      ]
     },
     "execution_count": 27,
     "metadata": {},
     "output_type": "execute_result"
    }
   ],
   "source": [
    "students2[students2 > 80].index"
   ]
  },
  {
   "cell_type": "code",
   "execution_count": 30,
   "id": "49b27ad2-3475-4ebf-89c7-7732d6c9dfd8",
   "metadata": {
    "tags": []
   },
   "outputs": [
    {
     "data": {
      "text/plain": [
       "'1022'"
      ]
     },
     "execution_count": 30,
     "metadata": {},
     "output_type": "execute_result"
    }
   ],
   "source": [
    "students2[students2 > 80].index[0]"
   ]
  },
  {
   "cell_type": "code",
   "execution_count": 32,
   "id": "3e627c49-3a04-4fee-9baa-0a662380822e",
   "metadata": {
    "tags": []
   },
   "outputs": [
    {
     "data": {
      "text/plain": [
       "['1022', '1876', '1834', '1566', '1754', '4729']"
      ]
     },
     "execution_count": 32,
     "metadata": {},
     "output_type": "execute_result"
    }
   ],
   "source": [
    "student_index_list = students2.index.tolist()\n",
    "student_index_list"
   ]
  },
  {
   "cell_type": "code",
   "execution_count": 44,
   "id": "f6558824-0e5c-41df-a5ce-f0406f9ae38f",
   "metadata": {
    "tags": []
   },
   "outputs": [
    {
     "name": "stdout",
     "output_type": "stream",
     "text": [
      "1022     A\n",
      "1876     E\n",
      "1834     D\n",
      "1566     E\n",
      "1754    B+\n",
      "4729    C+\n",
      "Name: students, dtype: object\n"
     ]
    }
   ],
   "source": [
    "# for i in stu_index_list:\n",
    "    \n",
    "for i in students2.index:\n",
    "\n",
    "    students2[i] = 'A+' if students2[i] > 95 else 'A' if students2[i] >= 90 else 'B+' if students2[i] >= 85\\\n",
    "                        else 'B' if students2[i] >= 80 else 'C+' if students2[i] >= 75 else 'C' if students2[i] >= 70\\\n",
    "                        else 'D' if students2[i] >= 60 else 'E'\n",
    "            \n",
    "print(students2)"
   ]
  },
  {
   "cell_type": "code",
   "execution_count": 51,
   "id": "6c00ad3a-80d0-4cc2-a183-884cd30af66f",
   "metadata": {
    "tags": []
   },
   "outputs": [
    {
     "ename": "IndentationError",
     "evalue": "unindent does not match any outer indentation level (<tokenize>, line 5)",
     "output_type": "error",
     "traceback": [
      "\u001b[0;36m  File \u001b[0;32m<tokenize>:5\u001b[0;36m\u001b[0m\n\u001b[0;31m    if students2[i] >= 90:\u001b[0m\n\u001b[0m    ^\u001b[0m\n\u001b[0;31mIndentationError\u001b[0m\u001b[0;31m:\u001b[0m unindent does not match any outer indentation level\n"
     ]
    }
   ],
   "source": [
    "for i in students2.index:\n",
    "\n",
    "    students2[i] = 'A+' if students2[i] > 95:\n",
    "                            else 'A' \n",
    "                    if students2[i] >= 90: \n",
    "                        else 'B+' \n",
    "                    if students2[i] >= 85:\n",
    "                        else 'B' \n",
    "                    if students2[i] >= 80:\n",
    "                        else 'C+' \n",
    "                    if students2[i] >= 75:\n",
    "                        else 'C' \n",
    "                    if students2[i] >= 70:\n",
    "                        else 'D' \n",
    "                    if students2[i] >= 60: \n",
    "                        else 'E'\n",
    "            \n",
    "print(students2)"
   ]
  },
  {
   "cell_type": "code",
   "execution_count": 52,
   "id": "da27c60d-d238-4ceb-8530-6ab2c89c6209",
   "metadata": {
    "tags": []
   },
   "outputs": [
    {
     "data": {
      "text/plain": [
       "1022     A\n",
       "1876     E\n",
       "1834     D\n",
       "1566     E\n",
       "1754    B+\n",
       "4729    C+\n",
       "dtype: object"
      ]
     },
     "execution_count": 52,
     "metadata": {},
     "output_type": "execute_result"
    }
   ],
   "source": [
    "converted_list = ['A+' if grade > 95 else 'A' if grade >= 90 else 'B+' if grade >= 85 \n",
    "                        else 'B' if grade >= 80 else 'C+' if grade >= 75 else 'C' if grade >= 70 \n",
    "                        else 'D' if grade >= 60 else 'E' for grade in students]\n",
    "\n",
    "\n",
    "# Use conditional selection to assign grade categories based on grade intervals\n",
    "new_grades = pd.Series(converted_list, index = students.index)\n",
    "new_grades"
   ]
  },
  {
   "cell_type": "markdown",
   "id": "5ada768d",
   "metadata": {},
   "source": [
    "## Task3:\n",
    "\n",
    "**Solve the same task using the `np.select()` function.**"
   ]
  },
  {
   "cell_type": "code",
   "execution_count": 56,
   "id": "be167fd0",
   "metadata": {},
   "outputs": [
    {
     "name": "stdout",
     "output_type": "stream",
     "text": [
      "1022     A\n",
      "1876     E\n",
      "1834     D\n",
      "1566     E\n",
      "1754    B+\n",
      "4729    C+\n",
      "dtype: object\n"
     ]
    }
   ],
   "source": [
    "conditions = [\n",
    "    students > 95,\n",
    "    (students <= 95) & (students >= 90),\n",
    "    (students < 90) & (students >= 85),\n",
    "    (students < 85) & (students >= 80),\n",
    "    (students < 80) & (students >= 75),\n",
    "    (students < 70) & (students >=75),\n",
    "    (students < 70) & (students >= 60),\n",
    "    students < 60\n",
    "]\n",
    "\n",
    "grade_cat = ['A+', 'A', 'B+', 'B', 'C+', 'C', 'D', 'E']\n",
    "\n",
    "new_grades = pd.Series(np.select(conditions, grade_cat), index=students.index) \n",
    "\n",
    "print(new_grades)"
   ]
  },
  {
   "cell_type": "markdown",
   "id": "915d73e6",
   "metadata": {},
   "source": [
    "## Task4:\n",
    "\n",
    "**a: Create a function named `map_grades` that takes a list of grades as input and returns the corresponding grade categories (A+, A, B+, B, C+, C, D, and E) based on the specified intervals.**\n",
    "\n",
    "**b. Solve the same task by using the map_grades() user-defined function within the `map()` function.**\n",
    "\n",
    "**c. Solve the same task by using the map_grades() user-defined function within the `apply()` function**."
   ]
  },
  {
   "cell_type": "code",
   "execution_count": 57,
   "id": "ec020a75",
   "metadata": {},
   "outputs": [],
   "source": [
    "def map_grades(grade):\n",
    "    if grade > 95:\n",
    "        return 'A+'\n",
    "    elif grade >= 90:\n",
    "        return 'A'\n",
    "    elif grade >= 85:\n",
    "        return 'B+'\n",
    "    elif grade >= 80:\n",
    "        return 'B'\n",
    "    elif grade >= 75:\n",
    "        return 'C+'\n",
    "    elif grade >= 70:\n",
    "        return 'C'\n",
    "    elif grade >= 60:\n",
    "        return 'D'\n",
    "    else:\n",
    "        return 'E'"
   ]
  },
  {
   "cell_type": "code",
   "execution_count": 58,
   "id": "21a16d5a",
   "metadata": {},
   "outputs": [
    {
     "data": {
      "text/plain": [
       "1022     A\n",
       "1876     E\n",
       "1834     D\n",
       "1566     E\n",
       "1754    B+\n",
       "4729    C+\n",
       "Name: students, dtype: object"
      ]
     },
     "execution_count": 58,
     "metadata": {},
     "output_type": "execute_result"
    }
   ],
   "source": [
    "new_grades = students.map(map_grades).fillna('E')\n",
    "new_grades"
   ]
  },
  {
   "cell_type": "code",
   "execution_count": 59,
   "id": "049f1a41",
   "metadata": {},
   "outputs": [
    {
     "data": {
      "text/plain": [
       "1022     A\n",
       "1876     E\n",
       "1834     D\n",
       "1566     E\n",
       "1754    B+\n",
       "4729    C+\n",
       "Name: students, dtype: object"
      ]
     },
     "execution_count": 59,
     "metadata": {},
     "output_type": "execute_result"
    }
   ],
   "source": [
    "new_grades = students.apply(map_grades)\n",
    "new_grades"
   ]
  },
  {
   "cell_type": "code",
   "execution_count": null,
   "id": "b32475e3-40f8-4f2b-a044-f13606c0ed4a",
   "metadata": {},
   "outputs": [],
   "source": []
  }
 ],
 "metadata": {
  "kernelspec": {
   "display_name": "Python 3 (ipykernel)",
   "language": "python",
   "name": "python3"
  },
  "language_info": {
   "codemirror_mode": {
    "name": "ipython",
    "version": 3
   },
   "file_extension": ".py",
   "mimetype": "text/x-python",
   "name": "python",
   "nbconvert_exporter": "python",
   "pygments_lexer": "ipython3",
   "version": "3.11.5"
  }
 },
 "nbformat": 4,
 "nbformat_minor": 5
}
