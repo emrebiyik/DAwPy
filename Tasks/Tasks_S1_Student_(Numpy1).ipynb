{
 "cells": [
  {
   "cell_type": "markdown",
   "id": "6c9ef7ca",
   "metadata": {
    "deletable": false,
    "editable": false
   },
   "source": [
    "<a href=\"https://clarusway.com/contact-us/\"><img align=\"center\" src=\"https://i.ibb.co/B43qn24/officially-licensed-logo.png\" alt=\"Open in Clarusway LMS\" width=\"110\" height=\"200\" title=\"This notebook is licensed by Clarusway IT training school. Please contact the authorized persons about the conditions under which you can use or share.\"></a>"
   ]
  },
  {
   "cell_type": "markdown",
   "id": "77a5ec5c",
   "metadata": {},
   "source": [
    "<hr>\n",
    "\n",
    "<a href=\"https://lms.clarusway.com/mod/lesson/view.php?id=2463&pageid=4531&startlastseen=no\"><img align=\"center\" src=\"https://i.ibb.co/6Z5pQxD/lmss.png\" alt=\"Open in Clarusway LMS\" width=\"70\" height=\"200\" title=\"Open Clarusway Learning Management Sytem\"></a>\n",
    "\n",
    "<a href=\"https://github.com/clarusway/DS-DE-0322-Students/blob/main/3-%20Classes%26Labs/2-DAwPY/DAwPy_S01_(Numpy_Arrays).ipynb\"><img align=\"left\" src=\"https://i.ibb.co/n3HWyQX/github-logo.png\" alt=\"Open in Clarusway GitHub\" width=\"90\" height=\"150\" title=\"Open and Execute in Clarusway GitHub Repository\"></a>\n",
    "\n",
    "<a href=\"https://nbviewer.org/github/4dsolutions/clarusway_data_analysis/blob/main/DAwPy_S1_%28Numpy_Arrays%29/DAwPy_S1_%28Numpy_Arrays%29.ipynb\"><img align=\"right\" src=\"https://i.ibb.co/48wtV8c/nbviewer-badge.png\" alt=\"Open in nbviewer\" width=\"100\" height=\"100\" title=\"Open and Execute in nbviewer\"></a><br/>\n",
    "\n",
    "<hr>\n",
    "\n",
    "<p style=\"text-align: center;\"><img src=\"https://i.ibb.co/Rpz9L36/clarusway-logo-black.png\" width=\"500\" height=\"200\" class=\"img-fluid\" alt=\"CLRSWY_LOGO\"></p>\n",
    "\n",
    "<p style=\"text-align: center;\"><img src=\"https://i.ibb.co/XS0bxSH/best-bootcamps.png\" width=\"300\" height=\"200\" class=\"img-fluid\" alt=\"CLRSWY_LOGO\"></p>\n",
    "\n",
    "<p style=\"background-color:#E51A59; font-family:newtimeroman; color:#FDFEFE; font-size:130%; text-align:center; border-radius:10px 10px;\">WAY TO REINVENT YOURSELF</p>\n",
    "\n",
    "<p style=\"text-align: center;\"><img src=\"https://i.ibb.co/99DQ3TY/DS-Courses.png\" class=\"img-fluid\" \n",
    "alt=\"CLRSWY_Courses\"></p>"
   ]
  },
  {
   "cell_type": "markdown",
   "id": "a487007e",
   "metadata": {
    "id": "wGIwWxbXrbsZ"
   },
   "source": [
    "# <p style=\"background-color:#9d4f8c; font-family:newtimeroman; color:#FFF9ED; font-size:150%; text-align:LEFT; border-radius:10px 10px;\">Tasks for Session-1</p>"
   ]
  },
  {
   "cell_type": "markdown",
   "id": "2d3b4cae",
   "metadata": {},
   "source": [
    "## Task 1 : Task: Random Matrix Generation and Operations:\n",
    "\n",
    "### 1a. Generate a 4x4 matrix filled with random values."
   ]
  },
  {
   "cell_type": "code",
   "execution_count": 1,
   "id": "a868c845",
   "metadata": {},
   "outputs": [],
   "source": [
    "import numpy as np"
   ]
  },
  {
   "cell_type": "code",
   "execution_count": 11,
   "id": "0a569c1f-a97a-45ac-b5b5-54fcb51bec0a",
   "metadata": {
    "tags": []
   },
   "outputs": [
    {
     "data": {
      "text/plain": [
       "array([[0.42064597, 0.26096724, 0.67392308, 0.85901742],\n",
       "       [0.21656658, 0.28942586, 0.19579302, 0.77921975],\n",
       "       [0.03009816, 0.48347465, 0.30102683, 0.56272886],\n",
       "       [0.93987443, 0.95055332, 0.27896127, 0.6790401 ]])"
      ]
     },
     "execution_count": 11,
     "metadata": {},
     "output_type": "execute_result"
    }
   ],
   "source": [
    "np.random.rand(4,4)"
   ]
  },
  {
   "cell_type": "code",
   "execution_count": 18,
   "id": "fc714992-1eb6-4f80-8ab4-a7d2cdba4078",
   "metadata": {},
   "outputs": [
    {
     "data": {
      "text/plain": [
       "array([-0.32219018, -1.32199116, -2.04518132, -2.07000403,  0.15866066,\n",
       "       -0.04449305, -0.10916259, -0.5984306 , -1.05982871,  1.59160779,\n",
       "       -0.45763042, -0.19271981,  2.62837142, -0.01146208, -0.476097  ,\n",
       "       -1.10355317])"
      ]
     },
     "execution_count": 18,
     "metadata": {},
     "output_type": "execute_result"
    }
   ],
   "source": [
    "np.random.randn(16)"
   ]
  },
  {
   "cell_type": "code",
   "execution_count": 19,
   "id": "6a8ca764-6f0c-49bc-8d0e-8f22e411f4d9",
   "metadata": {
    "tags": []
   },
   "outputs": [
    {
     "data": {
      "text/plain": [
       "array([[ 1.16275481, -0.61798853,  1.17183532,  1.28312121],\n",
       "       [-0.17919908, -0.3851088 ,  0.25660317,  0.58478937],\n",
       "       [-0.40891865,  0.39538284, -1.22002802,  0.0702698 ],\n",
       "       [-0.20204998, -0.58519076, -2.56612883, -1.10404666]])"
      ]
     },
     "execution_count": 19,
     "metadata": {},
     "output_type": "execute_result"
    }
   ],
   "source": [
    "np.random.randn(4,4)"
   ]
  },
  {
   "cell_type": "code",
   "execution_count": 3,
   "id": "a72e0e3a-68ee-4dd8-9060-b9224dbdc3d7",
   "metadata": {
    "tags": []
   },
   "outputs": [
    {
     "data": {
      "text/plain": [
       "array([[ 1.11169803,  0.08075051,  0.58042714,  0.97608799],\n",
       "       [ 0.90124324, -0.87802917, -1.12052556,  0.04240482],\n",
       "       [ 0.50571722, -1.00285548,  0.60720031,  0.83093323],\n",
       "       [ 1.27263013, -0.93479151,  1.40696651,  0.24205307]])"
      ]
     },
     "execution_count": 3,
     "metadata": {},
     "output_type": "execute_result"
    }
   ],
   "source": [
    "matrix = np.random.randn(4,4)\n",
    "matrix"
   ]
  },
  {
   "cell_type": "markdown",
   "id": "60485ee8",
   "metadata": {},
   "source": [
    "### 1b. Calculate the row sums of the matrix."
   ]
  },
  {
   "cell_type": "code",
   "execution_count": 21,
   "id": "7c823f50",
   "metadata": {},
   "outputs": [
    {
     "data": {
      "text/plain": [
       "array([-2.39542589,  0.97478124, -0.43538362, -4.01488438])"
      ]
     },
     "execution_count": 21,
     "metadata": {},
     "output_type": "execute_result"
    }
   ],
   "source": [
    "np.sum(matrix, axis=1)"
   ]
  },
  {
   "cell_type": "markdown",
   "id": "3e1e7afb",
   "metadata": {},
   "source": [
    "### 1c. Calculate the column means of the matrix."
   ]
  },
  {
   "cell_type": "code",
   "execution_count": 4,
   "id": "2b478357",
   "metadata": {},
   "outputs": [
    {
     "data": {
      "text/plain": [
       "array([ 0.94782215, -0.68373141,  0.3685171 ,  0.52286978])"
      ]
     },
     "execution_count": 4,
     "metadata": {},
     "output_type": "execute_result"
    }
   ],
   "source": [
    "np.mean(matrix, axis=0)"
   ]
  },
  {
   "cell_type": "markdown",
   "id": "e80c281d",
   "metadata": {},
   "source": [
    "### 1d. Find the sum of the diagonal elements of the matrix."
   ]
  },
  {
   "cell_type": "code",
   "execution_count": 68,
   "id": "42ab977a",
   "metadata": {},
   "outputs": [
    {
     "data": {
      "text/plain": [
       "-2.2376340100990593"
      ]
     },
     "execution_count": 68,
     "metadata": {},
     "output_type": "execute_result"
    }
   ],
   "source": [
    "np.trace(matrix)"
   ]
  },
  {
   "cell_type": "markdown",
   "id": "ac2ea67c",
   "metadata": {},
   "source": [
    "## Task 2: Array Sorting and Indexing:\n",
    "\n",
    "### 2a. Create an array of random numbers from 1 to 20."
   ]
  },
  {
   "cell_type": "code",
   "execution_count": 34,
   "id": "62b8e550-dde1-4a28-a71e-a65525328dd0",
   "metadata": {
    "tags": []
   },
   "outputs": [
    {
     "data": {
      "text/plain": [
       "array([ 1,  2,  3,  4,  5,  6,  7,  8,  9, 10, 11, 12, 13, 14, 15, 16, 17,\n",
       "       18, 19, 20])"
      ]
     },
     "execution_count": 34,
     "metadata": {},
     "output_type": "execute_result"
    }
   ],
   "source": [
    "np.array(range(1,21))"
   ]
  },
  {
   "cell_type": "code",
   "execution_count": 33,
   "id": "dfe64687",
   "metadata": {},
   "outputs": [
    {
     "data": {
      "text/plain": [
       "array([[ 8,  4, 12,  2, 15, 17, 15, 10, 13, 18, 13,  4,  8,  1, 18,  2,\n",
       "         1, 19,  5, 16]])"
      ]
     },
     "execution_count": 33,
     "metadata": {},
     "output_type": "execute_result"
    }
   ],
   "source": [
    "np.random.randint(1,21,(1,20))"
   ]
  },
  {
   "cell_type": "code",
   "execution_count": 70,
   "id": "15ec6b5f-dae8-4f44-a9e4-34a753c575eb",
   "metadata": {
    "tags": []
   },
   "outputs": [
    {
     "data": {
      "text/plain": [
       "array([ 9, 10, 19,  4,  5,  1, 17,  4, 10, 17,  8, 15,  1, 19, 10,  1, 13,\n",
       "       17,  4, 20])"
      ]
     },
     "execution_count": 70,
     "metadata": {},
     "output_type": "execute_result"
    }
   ],
   "source": [
    "np.random.randint(1,21, size=20)"
   ]
  },
  {
   "cell_type": "code",
   "execution_count": 69,
   "id": "f0ba4f0f-5673-4068-bd6f-b8e9cba4c92d",
   "metadata": {
    "tags": []
   },
   "outputs": [
    {
     "data": {
      "text/plain": [
       "11"
      ]
     },
     "execution_count": 69,
     "metadata": {},
     "output_type": "execute_result"
    }
   ],
   "source": [
    "np.random.randint(1,21)"
   ]
  },
  {
   "cell_type": "markdown",
   "id": "66185aa8",
   "metadata": {},
   "source": [
    "### 2b. Sort the array in descending order."
   ]
  },
  {
   "cell_type": "code",
   "execution_count": null,
   "id": "fba76ea6-6d73-4089-b0f9-2baf80200157",
   "metadata": {},
   "outputs": [],
   "source": [
    "np.sort(array)[::1]"
   ]
  },
  {
   "cell_type": "code",
   "execution_count": 73,
   "id": "8dc5199f",
   "metadata": {},
   "outputs": [
    {
     "ename": "NameError",
     "evalue": "name 'false' is not defined",
     "output_type": "error",
     "traceback": [
      "\u001b[0;31m---------------------------------------------------------------------------\u001b[0m",
      "\u001b[0;31mNameError\u001b[0m                                 Traceback (most recent call last)",
      "Cell \u001b[0;32mIn[73], line 1\u001b[0m\n\u001b[0;32m----> 1\u001b[0m np\u001b[38;5;241m.\u001b[39msort(np\u001b[38;5;241m.\u001b[39mrandom\u001b[38;5;241m.\u001b[39mrandint(\u001b[38;5;241m1\u001b[39m,\u001b[38;5;241m21\u001b[39m,(\u001b[38;5;241m1\u001b[39m,\u001b[38;5;241m20\u001b[39m)), ascending\u001b[38;5;241m=\u001b[39mfalse)\n",
      "\u001b[0;31mNameError\u001b[0m: name 'false' is not defined"
     ]
    }
   ],
   "source": [
    "np.sort(np.random.randint(1,21,(1,20)), ascending=False)"
   ]
  },
  {
   "cell_type": "code",
   "execution_count": 45,
   "id": "3b89b2a3-d077-4430-8a4f-5a08e0b881f2",
   "metadata": {
    "tags": []
   },
   "outputs": [
    {
     "data": {
      "text/plain": [
       "array([[ 3,  3,  3,  5,  6,  6,  7,  7,  8, 11, 11, 12, 13, 14, 14, 14,\n",
       "        15, 19, 20, 20]])"
      ]
     },
     "execution_count": 45,
     "metadata": {},
     "output_type": "execute_result"
    }
   ],
   "source": [
    "np.sort(np.random.randint(1,21,(1,20)))[::-1]"
   ]
  },
  {
   "cell_type": "code",
   "execution_count": 38,
   "id": "4671c0f5-5dd4-4c91-811a-e3e4452d33f5",
   "metadata": {
    "tags": []
   },
   "outputs": [
    {
     "data": {
      "text/plain": [
       "array([19, 18, 18, 17, 16, 15, 15, 13, 13, 12, 10,  8,  8,  5,  4,  4,  2,\n",
       "        2,  1,  1])"
      ]
     },
     "execution_count": 38,
     "metadata": {},
     "output_type": "execute_result"
    }
   ],
   "source": [
    "np.sort([ 8,  4, 12,  2, 15, 17, 15, 10, 13, 18, 13,  4,  8,  1, 18,  2,\n",
    "         1, 19,  5, 16])[::-1]"
   ]
  },
  {
   "cell_type": "markdown",
   "id": "747496e7",
   "metadata": {},
   "source": [
    "### 2c. Find the minimum and maximum elements of the array."
   ]
  },
  {
   "cell_type": "code",
   "execution_count": 48,
   "id": "287685fa",
   "metadata": {},
   "outputs": [
    {
     "data": {
      "text/plain": [
       "1"
      ]
     },
     "execution_count": 48,
     "metadata": {},
     "output_type": "execute_result"
    }
   ],
   "source": [
    "array1 = np.array([19, 18, 18, 17, 16, 15, 15, 13, 13, 12, 10,  8,  8,  5,  4,  4,  2,\n",
    "        2,  1,  1])\n",
    "array1.min()"
   ]
  },
  {
   "cell_type": "code",
   "execution_count": 49,
   "id": "ec549a8a-2a8d-4bd2-a2f6-cf7ca4c5ea3c",
   "metadata": {
    "tags": []
   },
   "outputs": [
    {
     "data": {
      "text/plain": [
       "19"
      ]
     },
     "execution_count": 49,
     "metadata": {},
     "output_type": "execute_result"
    }
   ],
   "source": [
    "array1.max()"
   ]
  },
  {
   "cell_type": "markdown",
   "id": "50586a09",
   "metadata": {},
   "source": [
    "### 2d. Select the first half of the array (the first 10 elements) and reverse them."
   ]
  },
  {
   "cell_type": "code",
   "execution_count": null,
   "id": "f31a879e-8503-4da7-8e14-2c039111cc4b",
   "metadata": {},
   "outputs": [],
   "source": [
    "half_array = array[:len(array)//2]\n",
    "\n",
    "reversed_half_array = half_array[::-1]\n",
    "\n",
    "print(array)\n",
    "print(reversed_half_array)"
   ]
  },
  {
   "cell_type": "code",
   "execution_count": 56,
   "id": "6f06602e",
   "metadata": {},
   "outputs": [
    {
     "data": {
      "text/plain": [
       "array([12, 13, 13, 15, 15, 16, 17, 18, 18, 19])"
      ]
     },
     "execution_count": 56,
     "metadata": {},
     "output_type": "execute_result"
    }
   ],
   "source": [
    "array1[:10][::-1]"
   ]
  },
  {
   "cell_type": "markdown",
   "id": "9562b807",
   "metadata": {},
   "source": [
    "## Task 3: Convert the Arrays:\n",
    "\n",
    "### 3a. Create an array with elements [-1, 0, 1, 2, 3]."
   ]
  },
  {
   "cell_type": "code",
   "execution_count": 97,
   "id": "24dff028",
   "metadata": {},
   "outputs": [
    {
     "data": {
      "text/plain": [
       "[-1, 0, 1, 2, 3]"
      ]
     },
     "execution_count": 97,
     "metadata": {},
     "output_type": "execute_result"
    }
   ],
   "source": [
    "my_array =  [-1, 0, 1, 2, 3]\n",
    "my_array"
   ]
  },
  {
   "cell_type": "code",
   "execution_count": 102,
   "id": "44b2057b-bdeb-40f7-aa55-0888709f8a01",
   "metadata": {
    "tags": []
   },
   "outputs": [
    {
     "data": {
      "text/plain": [
       "[-1, 0, 1, 2, 3]"
      ]
     },
     "execution_count": 102,
     "metadata": {},
     "output_type": "execute_result"
    }
   ],
   "source": [
    "my_array2 = np.array([-1, 0, 1, 2, 3])\n",
    "my_array"
   ]
  },
  {
   "cell_type": "markdown",
   "id": "d70db02f",
   "metadata": {},
   "source": [
    "### 3b. Convert the array into a matrix and square each element."
   ]
  },
  {
   "cell_type": "code",
   "execution_count": null,
   "id": "fd24f863-3285-411e-aa7d-4591eb04402c",
   "metadata": {},
   "outputs": [],
   "source": [
    "matrix = np.reshape(array, (1, -1))\n",
    "# matrix = np.matrix(array)  # alternative solution\n",
    "print(matrix)\n",
    "\n",
    "squared_matrix = np.square(matrix)\n",
    "print(squared_matrix)"
   ]
  },
  {
   "cell_type": "code",
   "execution_count": 103,
   "id": "ca57c1e6",
   "metadata": {},
   "outputs": [
    {
     "data": {
      "text/plain": [
       "matrix([[-1,  0,  1,  2,  3]])"
      ]
     },
     "execution_count": 103,
     "metadata": {},
     "output_type": "execute_result"
    }
   ],
   "source": [
    "np.matrix(my_array2)"
   ]
  },
  {
   "cell_type": "code",
   "execution_count": 107,
   "id": "fda3244d-a8dc-4486-919f-b1b3a2b0eb7f",
   "metadata": {
    "tags": []
   },
   "outputs": [
    {
     "data": {
      "text/plain": [
       "array([[1, 0, 1, 4, 9]])"
      ]
     },
     "execution_count": 107,
     "metadata": {},
     "output_type": "execute_result"
    }
   ],
   "source": [
    "np.square([my_array2]) #!"
   ]
  },
  {
   "cell_type": "code",
   "execution_count": 105,
   "id": "1f9d4716-06be-481a-a7b5-aaf9532d1299",
   "metadata": {
    "tags": []
   },
   "outputs": [
    {
     "data": {
      "text/plain": [
       "array([[-1,  0,  1,  2,  3]])"
      ]
     },
     "execution_count": 105,
     "metadata": {},
     "output_type": "execute_result"
    }
   ],
   "source": [
    "my_array2.reshape(1,-1)"
   ]
  },
  {
   "cell_type": "markdown",
   "id": "012014fd",
   "metadata": {},
   "source": [
    "### 3c. Convert the matrix back to a one-dimensional array."
   ]
  },
  {
   "cell_type": "code",
   "execution_count": null,
   "id": "36fa9f4a-a52a-451a-a962-742380fef177",
   "metadata": {},
   "outputs": [],
   "source": [
    "np.reshape(array, (5,))"
   ]
  },
  {
   "cell_type": "code",
   "execution_count": 106,
   "id": "5457ffe7",
   "metadata": {},
   "outputs": [
    {
     "data": {
      "text/plain": [
       "array([-1,  0,  1,  2,  3])"
      ]
     },
     "execution_count": 106,
     "metadata": {},
     "output_type": "execute_result"
    }
   ],
   "source": [
    "np.ravel(my_array)"
   ]
  },
  {
   "cell_type": "markdown",
   "id": "02d026ae",
   "metadata": {},
   "source": [
    "### 3d. Convert each element of the array to its absolute value"
   ]
  },
  {
   "cell_type": "code",
   "execution_count": null,
   "id": "a83bafd2-f51d-4b14-8ad5-c1e6491f7ec2",
   "metadata": {},
   "outputs": [],
   "source": [
    "abs_array = np.abs(array)\n",
    "abs_array"
   ]
  },
  {
   "cell_type": "code",
   "execution_count": 108,
   "id": "47de9640",
   "metadata": {},
   "outputs": [
    {
     "data": {
      "text/plain": [
       "array([1, 0, 1, 2, 3])"
      ]
     },
     "execution_count": 108,
     "metadata": {},
     "output_type": "execute_result"
    }
   ],
   "source": [
    "np.absolute(my_array)"
   ]
  },
  {
   "cell_type": "markdown",
   "id": "60794f9a",
   "metadata": {},
   "source": [
    "<hr>\n",
    "\n",
    "## <p style=\"background-color:#FDFEFE; font-family:newtimeroman; color:#9d4f8c; font-size:150%; text-align:center; border-radius:10px 10px;\">The End of Task</p>\n",
    "\n",
    "\n",
    "<p style=\"text-align: center;\"><img src=\"https://i.ibb.co/99DQ3TY/DS-Courses.png\" class=\"img-fluid\" \n",
    "alt=\"CLRSWY\"></p>\n",
    "\n",
    "\n",
    "<br><br><br>\n",
    "\n",
    "<p style=\"text-align: center;\"><img src=\"https://i.ibb.co/Rpz9L36/clarusway-logo-black.png\" width=\"450\" height=\"200\" class=\"img-fluid\" alt=\"CLRSWY_LOGO\"></p>\n",
    "\n",
    "<p style=\"background-color:#E51A59; font-family:newtimeroman; color:#FDFEFE; font-size:130%; text-align:center; border-radius:10px 10px;\">WAY TO REINVENT YOURSELF</p>"
   ]
  },
  {
   "cell_type": "markdown",
   "id": "4008c104",
   "metadata": {
    "deletable": false,
    "editable": false
   },
   "source": [
    "<a href=\"https://clarusway.com/contact-us/\"><img align=\"center\" src=\"https://i.ibb.co/B43qn24/officially-licensed-logo.png\" alt=\"Open in Clarusway LMS\" width=\"110\" height=\"200\" title=\"This notebook is licensed by Clarusway IT training school. Please contact the authorized persons about the conditions under which you can use or share.\"></a>"
   ]
  }
 ],
 "metadata": {
  "kernelspec": {
   "display_name": "Python 3 (ipykernel)",
   "language": "python",
   "name": "python3"
  },
  "language_info": {
   "codemirror_mode": {
    "name": "ipython",
    "version": 3
   },
   "file_extension": ".py",
   "mimetype": "text/x-python",
   "name": "python",
   "nbconvert_exporter": "python",
   "pygments_lexer": "ipython3",
   "version": "3.11.5"
  },
  "toc": {
   "base_numbering": 1,
   "nav_menu": {},
   "number_sections": false,
   "sideBar": true,
   "skip_h1_title": false,
   "title_cell": "Table of Contents",
   "title_sidebar": "Contents",
   "toc_cell": false,
   "toc_position": {},
   "toc_section_display": true,
   "toc_window_display": true
  }
 },
 "nbformat": 4,
 "nbformat_minor": 5
}
