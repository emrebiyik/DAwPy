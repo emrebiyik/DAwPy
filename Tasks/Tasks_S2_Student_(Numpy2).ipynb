{
 "cells": [
  {
   "cell_type": "code",
   "execution_count": 80,
   "id": "70c425ae",
   "metadata": {
    "tags": []
   },
   "outputs": [],
   "source": [
    "import numpy as np"
   ]
  },
  {
   "cell_type": "markdown",
   "id": "bef820fe",
   "metadata": {},
   "source": [
    "## Aşağıdaki arr1 arrayinin orta satırını ve son sütunu seçin:"
   ]
  },
  {
   "cell_type": "code",
   "execution_count": 3,
   "id": "bc5b737a",
   "metadata": {
    "tags": []
   },
   "outputs": [
    {
     "data": {
      "text/plain": [
       "array([[1, 2, 3],\n",
       "       [4, 5, 6],\n",
       "       [7, 8, 9]])"
      ]
     },
     "execution_count": 3,
     "metadata": {},
     "output_type": "execute_result"
    }
   ],
   "source": [
    "arr1 = np.array([[1, 2, 3], [4, 5, 6], [7, 8, 9]])\n",
    "arr1"
   ]
  },
  {
   "cell_type": "code",
   "execution_count": 5,
   "id": "55b1a217",
   "metadata": {
    "tags": []
   },
   "outputs": [
    {
     "data": {
      "text/plain": [
       "array([[4, 5, 6],\n",
       "       [7, 8, 9]])"
      ]
     },
     "execution_count": 5,
     "metadata": {},
     "output_type": "execute_result"
    }
   ],
   "source": [
    "arr1[1:]"
   ]
  },
  {
   "cell_type": "markdown",
   "id": "ea06787c",
   "metadata": {},
   "source": [
    "## Arrayin son satırını ters çevirerek seçin:"
   ]
  },
  {
   "cell_type": "code",
   "execution_count": 7,
   "id": "4fb32090",
   "metadata": {
    "tags": []
   },
   "outputs": [
    {
     "data": {
      "text/plain": [
       "array([9, 8, 7])"
      ]
     },
     "execution_count": 7,
     "metadata": {},
     "output_type": "execute_result"
    }
   ],
   "source": [
    "arr1[2][::-1]"
   ]
  },
  {
   "cell_type": "markdown",
   "id": "5f0bbb01",
   "metadata": {},
   "source": [
    "## Arrayin köşegen elemanlarını seçin:\n",
    "**Derste görülenlere ilave araştırma gerektirebilir.**"
   ]
  },
  {
   "cell_type": "code",
   "execution_count": 8,
   "id": "6a0cf554",
   "metadata": {
    "tags": []
   },
   "outputs": [
    {
     "data": {
      "text/plain": [
       "array([1, 5, 9])"
      ]
     },
     "execution_count": 8,
     "metadata": {},
     "output_type": "execute_result"
    }
   ],
   "source": [
    "np.diag(arr1)"
   ]
  },
  {
   "cell_type": "markdown",
   "id": "e4509bfd",
   "metadata": {},
   "source": [
    "## Arrayin alt üçgenini seçin:\n",
    "**Derste görülenlere ilave araştırma gerektirebilir.**"
   ]
  },
  {
   "cell_type": "code",
   "execution_count": 9,
   "id": "eefb26d5",
   "metadata": {
    "tags": []
   },
   "outputs": [
    {
     "data": {
      "text/plain": [
       "array([[1, 0, 0],\n",
       "       [4, 5, 0],\n",
       "       [7, 8, 9]])"
      ]
     },
     "execution_count": 9,
     "metadata": {},
     "output_type": "execute_result"
    }
   ],
   "source": [
    "np.tril(arr1)"
   ]
  },
  {
   "cell_type": "markdown",
   "id": "1581cff7",
   "metadata": {},
   "source": [
    "## Arrayin üst üçgenini seçin:\n",
    "**Derste görülenlere ilave araştırma gerektirebilir.**"
   ]
  },
  {
   "cell_type": "code",
   "execution_count": 10,
   "id": "6ac3f679",
   "metadata": {
    "tags": []
   },
   "outputs": [
    {
     "data": {
      "text/plain": [
       "array([[1, 2, 3],\n",
       "       [0, 5, 6],\n",
       "       [0, 0, 9]])"
      ]
     },
     "execution_count": 10,
     "metadata": {},
     "output_type": "execute_result"
    }
   ],
   "source": [
    "np.triu(arr1)"
   ]
  },
  {
   "cell_type": "markdown",
   "id": "c6850182",
   "metadata": {},
   "source": [
    "## Arrayin elemanlarını rastgele karıştırarak seçin:\n",
    "**Derste görülenlere ilave araştırma gerektirebilir.**"
   ]
  },
  {
   "cell_type": "code",
   "execution_count": 21,
   "id": "306beb3c",
   "metadata": {
    "tags": []
   },
   "outputs": [],
   "source": [
    "flattened = arr1.flatten()"
   ]
  },
  {
   "cell_type": "code",
   "execution_count": 22,
   "id": "70b3ffdd",
   "metadata": {
    "tags": []
   },
   "outputs": [
    {
     "data": {
      "text/plain": [
       "array([5, 2, 1, 3, 4, 8, 6, 7, 9])"
      ]
     },
     "execution_count": 22,
     "metadata": {},
     "output_type": "execute_result"
    }
   ],
   "source": [
    "np.random.shuffle(flattened)\n",
    "flattened"
   ]
  },
  {
   "cell_type": "code",
   "execution_count": 23,
   "id": "f3bb8b1d-fbad-440a-8bec-0d37815680ec",
   "metadata": {
    "tags": []
   },
   "outputs": [],
   "source": [
    " # flattened.reshape(3,3)"
   ]
  },
  {
   "cell_type": "markdown",
   "id": "c382b5a9",
   "metadata": {},
   "source": [
    "## Aşağıdaki arr2D dizisini, 2. satırını arr1D dizisi ile toplayacak şekilde update edin.:"
   ]
  },
  {
   "cell_type": "code",
   "execution_count": 33,
   "id": "89b3f9e7",
   "metadata": {
    "tags": []
   },
   "outputs": [
    {
     "data": {
      "text/plain": [
       "array([[1, 2, 3],\n",
       "       [4, 5, 6]])"
      ]
     },
     "metadata": {},
     "output_type": "display_data"
    },
    {
     "data": {
      "text/plain": [
       "array([10, 20, 30])"
      ]
     },
     "metadata": {},
     "output_type": "display_data"
    }
   ],
   "source": [
    "arr2D = np.array([[1, 2, 3],\n",
    "                 [4, 5, 6]])\n",
    "\n",
    "arr1D = np.array([10, 20, 30])\n",
    "\n",
    "display(arr2D)\n",
    "display(arr1D)"
   ]
  },
  {
   "cell_type": "code",
   "execution_count": 32,
   "id": "74477647",
   "metadata": {
    "tags": []
   },
   "outputs": [
    {
     "data": {
      "text/plain": [
       "array([14, 25, 36])"
      ]
     },
     "execution_count": 32,
     "metadata": {},
     "output_type": "execute_result"
    }
   ],
   "source": [
    "arr2D[1, :] + arr1D"
   ]
  },
  {
   "cell_type": "code",
   "execution_count": 34,
   "id": "2f16b0d1-3a0f-4a88-ac5d-cea86506bf14",
   "metadata": {
    "tags": []
   },
   "outputs": [
    {
     "data": {
      "text/plain": [
       "array([[ 1,  2,  3],\n",
       "       [14, 25, 36]])"
      ]
     },
     "execution_count": 34,
     "metadata": {},
     "output_type": "execute_result"
    }
   ],
   "source": [
    "arr2D[1, :] += arr1D\n",
    "arr2D"
   ]
  },
  {
   "cell_type": "markdown",
   "id": "2afc4806",
   "metadata": {},
   "source": [
    "## Aşağıdaki arr2 arrayinin satırlarını toplayarak seçin:"
   ]
  },
  {
   "cell_type": "code",
   "execution_count": 35,
   "id": "dc2e97ec",
   "metadata": {
    "tags": []
   },
   "outputs": [
    {
     "data": {
      "text/plain": [
       "array([[ 1,  2,  3,  4],\n",
       "       [ 5,  6,  7,  8],\n",
       "       [ 9, 10, 11, 12],\n",
       "       [13, 14, 15, 16]])"
      ]
     },
     "execution_count": 35,
     "metadata": {},
     "output_type": "execute_result"
    }
   ],
   "source": [
    "arr2 = np.array([[1, 2, 3, 4], [5, 6, 7, 8], [9, 10, 11, 12], [13, 14, 15, 16]])\n",
    "arr2"
   ]
  },
  {
   "cell_type": "code",
   "execution_count": 39,
   "id": "3ae056dc",
   "metadata": {
    "tags": []
   },
   "outputs": [
    {
     "data": {
      "text/plain": [
       "array([10, 26, 42, 58])"
      ]
     },
     "execution_count": 39,
     "metadata": {},
     "output_type": "execute_result"
    }
   ],
   "source": [
    "np.sum(arr2, axis=1)"
   ]
  },
  {
   "cell_type": "markdown",
   "id": "d410ab7b",
   "metadata": {},
   "source": [
    "## Arrayin 3. satırındaki en büyük ve en küçük elemanları seçin:"
   ]
  },
  {
   "cell_type": "code",
   "execution_count": 44,
   "id": "78b1e7a9",
   "metadata": {
    "tags": []
   },
   "outputs": [
    {
     "data": {
      "text/plain": [
       "9"
      ]
     },
     "execution_count": 44,
     "metadata": {},
     "output_type": "execute_result"
    }
   ],
   "source": [
    "np.min(arr2[2]) "
   ]
  },
  {
   "cell_type": "code",
   "execution_count": 43,
   "id": "344c9e4b-32c9-4f69-ae93-09930009241d",
   "metadata": {
    "tags": []
   },
   "outputs": [
    {
     "data": {
      "text/plain": [
       "9"
      ]
     },
     "execution_count": 43,
     "metadata": {},
     "output_type": "execute_result"
    }
   ],
   "source": [
    "np.min(arr2[2, :])"
   ]
  },
  {
   "cell_type": "code",
   "execution_count": 42,
   "id": "0d56b092-4459-48b1-9d10-8bdb0353f3aa",
   "metadata": {
    "tags": []
   },
   "outputs": [
    {
     "data": {
      "text/plain": [
       "12"
      ]
     },
     "execution_count": 42,
     "metadata": {},
     "output_type": "execute_result"
    }
   ],
   "source": [
    "np.max(arr2[2])"
   ]
  },
  {
   "cell_type": "markdown",
   "id": "2ad0d621",
   "metadata": {},
   "source": [
    "## Aşağıdaki arr3 arrayinin 5'ten küçük elemanlarını olduğu gibi, diğer elemanları 10 ile çarparak getirin:\n",
    "\n",
    "**Derste görülenlere ilave araştırma gerektirebilir.**"
   ]
  },
  {
   "cell_type": "code",
   "execution_count": 46,
   "id": "3d5bdb33",
   "metadata": {
    "tags": []
   },
   "outputs": [
    {
     "data": {
      "text/plain": [
       "array([0, 1, 2, 3, 4, 5, 6, 7, 8, 9])"
      ]
     },
     "execution_count": 46,
     "metadata": {},
     "output_type": "execute_result"
    }
   ],
   "source": [
    "arr3 = np.arange(10)\n",
    "arr3"
   ]
  },
  {
   "cell_type": "code",
   "execution_count": 52,
   "id": "22d4ba0d",
   "metadata": {
    "tags": []
   },
   "outputs": [
    {
     "ename": "ValueError",
     "evalue": "either both or neither of x and y should be given",
     "output_type": "error",
     "traceback": [
      "\u001b[0;31m---------------------------------------------------------------------------\u001b[0m",
      "\u001b[0;31mValueError\u001b[0m                                Traceback (most recent call last)",
      "Cell \u001b[0;32mIn[52], line 1\u001b[0m\n\u001b[0;32m----> 1\u001b[0m np\u001b[38;5;241m.\u001b[39mwhere(arr3 \u001b[38;5;241m<\u001b[39m \u001b[38;5;241m5\u001b[39m, arr3 \u001b[38;5;241m*\u001b[39m\u001b[38;5;241m10\u001b[39m)\n",
      "File \u001b[0;32m<__array_function__ internals>:200\u001b[0m, in \u001b[0;36mwhere\u001b[0;34m(*args, **kwargs)\u001b[0m\n",
      "\u001b[0;31mValueError\u001b[0m: either both or neither of x and y should be given"
     ]
    }
   ],
   "source": [
    "np.where(arr3 < 5, arr3 *10) # numpy.where(condition, [x, y, ]/)"
   ]
  },
  {
   "cell_type": "code",
   "execution_count": 51,
   "id": "7a0e5445-5d95-4d69-a76f-1455d7c65cad",
   "metadata": {
    "tags": []
   },
   "outputs": [
    {
     "data": {
      "text/plain": [
       "array([ 0,  1,  2,  3,  4, 50, 60, 70, 80, 90])"
      ]
     },
     "execution_count": 51,
     "metadata": {},
     "output_type": "execute_result"
    }
   ],
   "source": [
    "np.where(arr3 < 5, arr3, arr3 *10)"
   ]
  },
  {
   "cell_type": "markdown",
   "id": "7653cc27",
   "metadata": {},
   "source": [
    "# Aşağıdaki arr4 array'inin 1. ve 3. sütunlarındaki 5'ten büyük elemanlarını olduğu gibi, bu sütunların diğer elemanlarını 0 olarak getirin:\n",
    "**Derste görülenlere ilave araştırma gerektirebilir.**"
   ]
  },
  {
   "cell_type": "code",
   "execution_count": 89,
   "id": "65c54e19",
   "metadata": {
    "tags": []
   },
   "outputs": [
    {
     "data": {
      "text/plain": [
       "array([[ 1,  2,  3,  4],\n",
       "       [ 5,  6,  7,  8],\n",
       "       [ 9, 10, 11, 12],\n",
       "       [13, 14, 15, 16]])"
      ]
     },
     "execution_count": 89,
     "metadata": {},
     "output_type": "execute_result"
    }
   ],
   "source": [
    "arr4 = np.array([[1, 2, 3, 4], [5, 6, 7, 8], [9, 10, 11, 12], [13, 14, 15, 16]])\n",
    "arr4"
   ]
  },
  {
   "cell_type": "code",
   "execution_count": 90,
   "id": "3e7640fa",
   "metadata": {
    "tags": []
   },
   "outputs": [
    {
     "data": {
      "text/plain": [
       "array([[ 0,  0,  0,  0],\n",
       "       [ 0,  6,  7,  8],\n",
       "       [ 9, 10, 11, 12],\n",
       "       [13, 14, 15, 16]])"
      ]
     },
     "execution_count": 90,
     "metadata": {},
     "output_type": "execute_result"
    }
   ],
   "source": [
    "np.where(arr4 > 5, arr4, arr4 * 0) # false"
   ]
  },
  {
   "cell_type": "code",
   "execution_count": 91,
   "id": "20956728",
   "metadata": {
    "tags": []
   },
   "outputs": [
    {
     "data": {
      "text/plain": [
       "array([[ 0,  0,  0,  0],\n",
       "       [ 0,  6,  7,  8],\n",
       "       [ 9, 10, 11, 12],\n",
       "       [13, 14, 15, 16]])"
      ]
     },
     "execution_count": 91,
     "metadata": {},
     "output_type": "execute_result"
    }
   ],
   "source": [
    "np.where(arr4 > 5, arr4, arr4 == 0) # np.where(arr4 > 5, arr4, arr4 = 0) gives an error #false"
   ]
  },
  {
   "cell_type": "code",
   "execution_count": 92,
   "id": "afecda53-aa13-470f-911c-e402145211f1",
   "metadata": {
    "tags": []
   },
   "outputs": [
    {
     "data": {
      "text/plain": [
       "array([[ 0,  0,  0,  0],\n",
       "       [ 0,  0,  0,  0],\n",
       "       [ 9, 10, 11, 12],\n",
       "       [13, 14, 15, 16]])"
      ]
     },
     "execution_count": 92,
     "metadata": {},
     "output_type": "execute_result"
    }
   ],
   "source": [
    "np.where(arr4[:, [0]] > 5, arr4, arr4 * 0) # false"
   ]
  },
  {
   "cell_type": "code",
   "execution_count": 93,
   "id": "8fb634a9-0270-4e9a-bfaf-acb5aceae9a1",
   "metadata": {
    "tags": []
   },
   "outputs": [
    {
     "data": {
      "text/plain": [
       "array([[ 0,  0],\n",
       "       [ 0,  7],\n",
       "       [ 9, 11],\n",
       "       [13, 15]])"
      ]
     },
     "execution_count": 93,
     "metadata": {},
     "output_type": "execute_result"
    }
   ],
   "source": [
    "np.where(arr4[:, [0, 2]] > 5, arr4[:, [0, 2]], 0) "
   ]
  },
  {
   "cell_type": "code",
   "execution_count": 94,
   "id": "f5872484-9193-4da9-8c24-63ec51fc4434",
   "metadata": {
    "tags": []
   },
   "outputs": [
    {
     "data": {
      "text/plain": [
       "array([[ 0,  2,  0,  4],\n",
       "       [ 0,  6,  7,  8],\n",
       "       [ 9, 10, 11, 12],\n",
       "       [13, 14, 15, 16]])"
      ]
     },
     "execution_count": 94,
     "metadata": {},
     "output_type": "execute_result"
    }
   ],
   "source": [
    "arr4[:, [0, 2]] = np.where(arr4[:, [0, 2]] > 5, arr4[:, [0, 2]], 0)\n",
    "arr4"
   ]
  },
  {
   "cell_type": "markdown",
   "id": "35085525",
   "metadata": {},
   "source": [
    "# Arrayin 1. ve 4. sütunlarındaki 10'dan büyük ve eşit elemanları \"büyük\", bu sütunların diğer elemanlarını \"küçük\" olarak değiştirin:\n",
    "\n",
    "**Derste görülenlere ilave araştırma gerektirebilir.**"
   ]
  },
  {
   "cell_type": "code",
   "execution_count": 95,
   "id": "c4860ab1",
   "metadata": {
    "tags": []
   },
   "outputs": [
    {
     "data": {
      "text/plain": [
       "array(['küçük', 'küçük', 'büyük', 'büyük'], dtype='<U5')"
      ]
     },
     "execution_count": 95,
     "metadata": {},
     "output_type": "execute_result"
    }
   ],
   "source": [
    "np.where((arr4[:, 0] >= 10) | (arr4[:, 3] >= 10), 'büyük', 'küçük')"
   ]
  },
  {
   "cell_type": "code",
   "execution_count": 79,
   "id": "56cf3f4b-3a9a-44f2-bef6-bfdd7ca054d7",
   "metadata": {},
   "outputs": [
    {
     "data": {
      "text/plain": [
       "array(['küçük', 'küçük', 'büyük', 'büyük'], dtype='<U5')"
      ]
     },
     "execution_count": 79,
     "metadata": {},
     "output_type": "execute_result"
    }
   ],
   "source": [
    "result = np.where((arr4[:, 0] >= 10) | (arr4[:, 3] >= 10), 'büyük', 'küçük')\n",
    "result"
   ]
  },
  {
   "cell_type": "code",
   "execution_count": 96,
   "id": "30027127-1fac-46ac-b789-ce284362c328",
   "metadata": {
    "tags": []
   },
   "outputs": [
    {
     "data": {
      "text/plain": [
       "array([['kücük', 'kücük'],\n",
       "       ['kücük', 'kücük'],\n",
       "       ['kücük', 'büyük'],\n",
       "       ['büyük', 'büyük']], dtype='<U5')"
      ]
     },
     "execution_count": 96,
     "metadata": {},
     "output_type": "execute_result"
    }
   ],
   "source": [
    "arr4_büyük = np.where((arr4[:, [0,3]] >= 10) , \"büyük\", \"kücük\")\n",
    "arr4_büyük"
   ]
  },
  {
   "cell_type": "code",
   "execution_count": null,
   "id": "2e32f1f2-4206-4fbf-bfdc-c49c90df213f",
   "metadata": {},
   "outputs": [],
   "source": [
    "array([[ 1,  2,  3,  4],\n",
    "       [ 5,  6,  7,  8],\n",
    "       [ 9, 10, 11, 12],\n",
    "       [13, 14, 15, 16]])"
   ]
  }
 ],
 "metadata": {
  "kernelspec": {
   "display_name": "Python 3 (ipykernel)",
   "language": "python",
   "name": "python3"
  },
  "language_info": {
   "codemirror_mode": {
    "name": "ipython",
    "version": 3
   },
   "file_extension": ".py",
   "mimetype": "text/x-python",
   "name": "python",
   "nbconvert_exporter": "python",
   "pygments_lexer": "ipython3",
   "version": "3.11.5"
  }
 },
 "nbformat": 4,
 "nbformat_minor": 5
}
