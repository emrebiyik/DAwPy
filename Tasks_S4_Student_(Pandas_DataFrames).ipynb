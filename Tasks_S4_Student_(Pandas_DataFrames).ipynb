{
 "cells": [
  {
   "cell_type": "markdown",
   "id": "e5dda5fd",
   "metadata": {},
   "source": [
    "# Tasks for Session-4 (Pandas_DataFrames)"
   ]
  },
  {
   "cell_type": "markdown",
   "id": "e903571e",
   "metadata": {},
   "source": [
    "**Bir film veri setini işlemek için bir program geliştirmenizi istiyoruz. Veri seti, film adı, kategori, derecelendirme ve süre bilgilerini içeren bir pandas DataFrame olarak temsil edilmektedir.**\n",
    "\n",
    "**Kullanıcıdan film adı, kategori, derecelendirme ve süre bilgilerini alarak bunlardan bir DataFrame oluşturun. DataFrame sütunları \"Film_Adı\", \"Kategori\", \"Derecelendirme\" ve \"Süre\" olsun.**"
   ]
  },
  {
   "cell_type": "markdown",
   "id": "845d3a39",
   "metadata": {},
   "source": [
    "### Sinema derecelendirme kategorileri:\n",
    "\n",
    "**G (Genel İzleyici):** Bu kategori, her yaş grubundaki izleyicilere uygun olarak kabul edilen filmleri ifade eder. Herhangi bir sınırlama olmadan herkes tarafından izlenebilir.\n",
    "\n",
    "**PG (Ebeveyn Önerisi):** Bu kategori, çocukların izlemesine uygun olan ancak ebeveynlerin rehberlik yapması gereken filmleri ifade eder. Bazı sahneler veya konular çocukları korkutabilir veya rahatsız edebilir.\n",
    "\n",
    "**PG-13 (13 Yaşından Küçüklere Ebeveyn Önerisi):** Bu kategori, 13 yaşından küçük izleyicilere ebeveynlerin rehberlik yapması gereken filmleri ifade eder. Şiddet, dil veya bazı yetişkin temalar içerebilir.\n",
    "\n",
    "**R (Yetişkin):** Bu kategori, 17 yaşından küçükler için ebeveyn eşliğinde izlenmesi önerilen veya 17 yaşından küçük izleyicilere uygun olmayan filmleri ifade eder. Şiddet, cinsellik, küfür veya uyuşturucu kullanımı gibi yetişkin içerikleri içerebilir.\n",
    "\n",
    "**NC-17 (18 Yaşından Küçüklere Yasak):** Bu kategori, 18 yaşından küçük izleyicilere uygun olmayan ve sadece yetişkinlere yönelik filmleri ifade eder. Cinsellik, şiddet, aşırı kanlı sahneler veya diğer yetişkin içerikler içerebilir.\n",
    "\n",
    "Bu derecelendirme kategorileri genel olarak Amerikan sinema endüstrisinde kullanılan **MPAA (Motion Picture Association of America)** derecelendirme sistemine dayanmaktadır. Diğer ülkelerde farklı derecelendirme sistemleri ve kategoriler kullanılabilir.\n",
    "\n",
    "\n",
    "\n",
    "\n"
   ]
  },
  {
   "cell_type": "code",
   "execution_count": null,
   "id": "6b5198f1",
   "metadata": {},
   "outputs": [],
   "source": [
    "import pandas as pd"
   ]
  },
  {
   "cell_type": "code",
   "execution_count": null,
   "id": "74704bed",
   "metadata": {},
   "outputs": [],
   "source": []
  },
  {
   "cell_type": "code",
   "execution_count": null,
   "id": "b44e5122",
   "metadata": {},
   "outputs": [],
   "source": []
  },
  {
   "cell_type": "markdown",
   "id": "51ea9494",
   "metadata": {},
   "source": [
    "## Task1: Girilecek bir kategoriye ait filmleri ekrana yazdıran bir program yazın:"
   ]
  },
  {
   "cell_type": "code",
   "execution_count": null,
   "id": "02a2409b",
   "metadata": {},
   "outputs": [],
   "source": []
  },
  {
   "cell_type": "markdown",
   "id": "92449c9c",
   "metadata": {},
   "source": [
    "## Task 2: En Yüksek Bütçeli Filmi Bulun."
   ]
  },
  {
   "cell_type": "code",
   "execution_count": null,
   "id": "12f89456",
   "metadata": {},
   "outputs": [],
   "source": []
  },
  {
   "cell_type": "markdown",
   "id": "41cc3cb9",
   "metadata": {},
   "source": [
    "## Task3: En uzun süreli film ve en pahalı yapım hangileridir?"
   ]
  },
  {
   "cell_type": "code",
   "execution_count": null,
   "id": "0a48e81b",
   "metadata": {},
   "outputs": [],
   "source": []
  },
  {
   "cell_type": "markdown",
   "id": "ee4fad17",
   "metadata": {},
   "source": [
    "## Task 4: Aksiyon filmlerinin en uzunu hangisidir?"
   ]
  },
  {
   "cell_type": "code",
   "execution_count": null,
   "id": "6a1f8676",
   "metadata": {},
   "outputs": [],
   "source": []
  },
  {
   "cell_type": "markdown",
   "id": "94f91030",
   "metadata": {},
   "source": [
    "## Task 5: Her kategorinin en uzun filmini bulun. (kategorileri seçmek için `for döngüsü` kullanın)"
   ]
  },
  {
   "cell_type": "code",
   "execution_count": null,
   "id": "d31532d0",
   "metadata": {},
   "outputs": [],
   "source": []
  },
  {
   "cell_type": "markdown",
   "id": "a16f156a",
   "metadata": {},
   "source": [
    "## Task 6: Her kategorinin ortalama süre ve ortalama Bütçesini bulun: (kategorileri seçmek için `for döngüsü` kullanın)"
   ]
  },
  {
   "cell_type": "code",
   "execution_count": null,
   "id": "c909c797",
   "metadata": {},
   "outputs": [],
   "source": []
  }
 ],
 "metadata": {
  "kernelspec": {
   "display_name": "Python 3 (ipykernel)",
   "language": "python",
   "name": "python3"
  },
  "language_info": {
   "codemirror_mode": {
    "name": "ipython",
    "version": 3
   },
   "file_extension": ".py",
   "mimetype": "text/x-python",
   "name": "python",
   "nbconvert_exporter": "python",
   "pygments_lexer": "ipython3",
   "version": "3.11.5"
  }
 },
 "nbformat": 4,
 "nbformat_minor": 5
}
